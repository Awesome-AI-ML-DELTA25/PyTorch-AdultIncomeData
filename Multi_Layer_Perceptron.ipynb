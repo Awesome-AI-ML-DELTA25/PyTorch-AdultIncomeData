{
 "cells": [
  {
   "cell_type": "markdown",
   "id": "9f3d6aee",
   "metadata": {},
   "source": [
    "# Multi-Level Perceptron (Neural Network)\n",
    "\n",
    "In this notebook, we will build a MLP to predict various categorical features present in the Adult Census dataset."
   ]
  },
  {
   "cell_type": "code",
   "execution_count": null,
   "id": "f89f0dce",
   "metadata": {},
   "outputs": [],
   "source": [
    "import matplotlib.pyplot as plt\n",
    "import numpy as np\n",
    "import pandas as pd\n",
    "import seaborn as sns\n",
    "from sklearn.model_selection import train_test_split\n",
    "from sklearn.metrics import classification_report, confusion_matrix, accuracy_score\n",
    "from sklearn.preprocessing import StandardScaler, OneHotEncoder\n",
    "from sklearn.compose import ColumnTransformer\n",
    "from sklearn.pipeline import Pipeline\n",
    "from sklearn.neural_network import MLPClassifier"
   ]
  },
  {
   "cell_type": "code",
   "execution_count": null,
   "id": "9e7752f4",
   "metadata": {},
   "outputs": [],
   "source": [
    "file_path = \"Cleaned_Adult_Census.csv\"\n",
    "df = pd.read_csv(file_path)\n",
    "df.reset_index(drop=True, inplace=True)"
   ]
  },
  {
   "cell_type": "markdown",
   "id": "2766caff",
   "metadata": {},
   "source": [
    "### 1. Income"
   ]
  }
 ],
 "metadata": {
  "kernelspec": {
   "display_name": "weekII_env",
   "language": "python",
   "name": "python3"
  },
  "language_info": {
   "name": "python",
   "version": "3.13.2"
  }
 },
 "nbformat": 4,
 "nbformat_minor": 5
}
